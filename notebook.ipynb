{
  "cells": [
    {
      "cell_type": "code",
      "execution_count": 2,
      "metadata": {
        "colab": {
          "base_uri": "https://localhost:8080/"
        },
        "id": "4BBr7ci9lOFS",
        "outputId": "51a9a6d4-40c7-477a-cfee-d832cd5afb8d"
      },
      "outputs": [],
      "source": [
        "# from google.colab import drive\n",
        "# drive.mount('/content/drive')"
      ]
    },
    {
      "cell_type": "markdown",
      "metadata": {
        "id": "H9wADwK78DCz"
      },
      "source": [
        "# Proyek Analisis Data: Air Quality Dataset\n",
        "- **Nama:** Rendika Rahmaturrizki\n",
        "- **Email:** m322d4ky2562@bangkit.academy\n",
        "- **ID Dicoding:** ren245kar98"
      ]
    },
    {
      "cell_type": "markdown",
      "metadata": {
        "id": "eE0raob58DC0"
      },
      "source": [
        "## Menentukan Pertanyaan Bisnis"
      ]
    },
    {
      "cell_type": "markdown",
      "metadata": {
        "id": "GmQeQ5YF8DC0"
      },
      "source": [
        "- Bagaimana kualitas Udara di daerah Guanyuan dari tahun 2013 sampai dengan tahun 2017 ? (berdasarkan PM2.5)\n",
        "- Komponen apa yang paling banyak terdapat pada Udara di daerah Guanyuan ?"
      ]
    },
    {
      "cell_type": "markdown",
      "metadata": {
        "id": "H-z4QGlO8DC1"
      },
      "source": [
        "## Import Semua Packages/Library yang Digunakan"
      ]
    },
    {
      "cell_type": "code",
      "execution_count": 3,
      "metadata": {
        "id": "FVYwaObI8DC1"
      },
      "outputs": [],
      "source": [
        "import pandas as pd\n",
        "import matplotlib.pyplot as plt\n",
        "import numpy as np\n",
        "import seaborn as sns\n",
        "import plotly.express as px"
      ]
    },
    {
      "cell_type": "markdown",
      "metadata": {
        "id": "h_Sh51Xy8DC1"
      },
      "source": [
        "## Data Wrangling"
      ]
    },
    {
      "cell_type": "markdown",
      "metadata": {
        "id": "sXU2GBYu8DC1"
      },
      "source": [
        "### Gathering Data"
      ]
    },
    {
      "cell_type": "code",
      "execution_count": 4,
      "metadata": {
        "colab": {
          "base_uri": "https://localhost:8080/",
          "height": 363
        },
        "id": "zjCBk1BI8DC1",
        "outputId": "31f36140-14df-4eb4-a4b1-f87196ecda62"
      },
      "outputs": [
        {
          "data": {
            "text/html": [
              "<div>\n",
              "<style scoped>\n",
              "    .dataframe tbody tr th:only-of-type {\n",
              "        vertical-align: middle;\n",
              "    }\n",
              "\n",
              "    .dataframe tbody tr th {\n",
              "        vertical-align: top;\n",
              "    }\n",
              "\n",
              "    .dataframe thead th {\n",
              "        text-align: right;\n",
              "    }\n",
              "</style>\n",
              "<table border=\"1\" class=\"dataframe\">\n",
              "  <thead>\n",
              "    <tr style=\"text-align: right;\">\n",
              "      <th></th>\n",
              "      <th>No</th>\n",
              "      <th>year</th>\n",
              "      <th>month</th>\n",
              "      <th>day</th>\n",
              "      <th>hour</th>\n",
              "      <th>PM2.5</th>\n",
              "      <th>PM10</th>\n",
              "      <th>SO2</th>\n",
              "      <th>NO2</th>\n",
              "      <th>CO</th>\n",
              "      <th>O3</th>\n",
              "      <th>TEMP</th>\n",
              "      <th>PRES</th>\n",
              "      <th>DEWP</th>\n",
              "      <th>RAIN</th>\n",
              "      <th>wd</th>\n",
              "      <th>WSPM</th>\n",
              "      <th>station</th>\n",
              "    </tr>\n",
              "  </thead>\n",
              "  <tbody>\n",
              "    <tr>\n",
              "      <th>0</th>\n",
              "      <td>1</td>\n",
              "      <td>2013</td>\n",
              "      <td>3</td>\n",
              "      <td>1</td>\n",
              "      <td>0</td>\n",
              "      <td>4.0</td>\n",
              "      <td>4.0</td>\n",
              "      <td>14.0</td>\n",
              "      <td>20.0</td>\n",
              "      <td>300.0</td>\n",
              "      <td>69.0</td>\n",
              "      <td>-0.7</td>\n",
              "      <td>1023.0</td>\n",
              "      <td>-18.8</td>\n",
              "      <td>0.0</td>\n",
              "      <td>NNW</td>\n",
              "      <td>4.4</td>\n",
              "      <td>Guanyuan</td>\n",
              "    </tr>\n",
              "    <tr>\n",
              "      <th>1</th>\n",
              "      <td>2</td>\n",
              "      <td>2013</td>\n",
              "      <td>3</td>\n",
              "      <td>1</td>\n",
              "      <td>1</td>\n",
              "      <td>4.0</td>\n",
              "      <td>4.0</td>\n",
              "      <td>13.0</td>\n",
              "      <td>17.0</td>\n",
              "      <td>300.0</td>\n",
              "      <td>72.0</td>\n",
              "      <td>-1.1</td>\n",
              "      <td>1023.2</td>\n",
              "      <td>-18.2</td>\n",
              "      <td>0.0</td>\n",
              "      <td>N</td>\n",
              "      <td>4.7</td>\n",
              "      <td>Guanyuan</td>\n",
              "    </tr>\n",
              "    <tr>\n",
              "      <th>2</th>\n",
              "      <td>3</td>\n",
              "      <td>2013</td>\n",
              "      <td>3</td>\n",
              "      <td>1</td>\n",
              "      <td>2</td>\n",
              "      <td>3.0</td>\n",
              "      <td>3.0</td>\n",
              "      <td>10.0</td>\n",
              "      <td>19.0</td>\n",
              "      <td>300.0</td>\n",
              "      <td>69.0</td>\n",
              "      <td>-1.1</td>\n",
              "      <td>1023.5</td>\n",
              "      <td>-18.2</td>\n",
              "      <td>0.0</td>\n",
              "      <td>NNW</td>\n",
              "      <td>5.6</td>\n",
              "      <td>Guanyuan</td>\n",
              "    </tr>\n",
              "    <tr>\n",
              "      <th>3</th>\n",
              "      <td>4</td>\n",
              "      <td>2013</td>\n",
              "      <td>3</td>\n",
              "      <td>1</td>\n",
              "      <td>3</td>\n",
              "      <td>3.0</td>\n",
              "      <td>6.0</td>\n",
              "      <td>7.0</td>\n",
              "      <td>24.0</td>\n",
              "      <td>400.0</td>\n",
              "      <td>62.0</td>\n",
              "      <td>-1.4</td>\n",
              "      <td>1024.5</td>\n",
              "      <td>-19.4</td>\n",
              "      <td>0.0</td>\n",
              "      <td>NW</td>\n",
              "      <td>3.1</td>\n",
              "      <td>Guanyuan</td>\n",
              "    </tr>\n",
              "    <tr>\n",
              "      <th>4</th>\n",
              "      <td>5</td>\n",
              "      <td>2013</td>\n",
              "      <td>3</td>\n",
              "      <td>1</td>\n",
              "      <td>4</td>\n",
              "      <td>3.0</td>\n",
              "      <td>6.0</td>\n",
              "      <td>5.0</td>\n",
              "      <td>14.0</td>\n",
              "      <td>400.0</td>\n",
              "      <td>71.0</td>\n",
              "      <td>-2.0</td>\n",
              "      <td>1025.2</td>\n",
              "      <td>-19.5</td>\n",
              "      <td>0.0</td>\n",
              "      <td>N</td>\n",
              "      <td>2.0</td>\n",
              "      <td>Guanyuan</td>\n",
              "    </tr>\n",
              "    <tr>\n",
              "      <th>5</th>\n",
              "      <td>6</td>\n",
              "      <td>2013</td>\n",
              "      <td>3</td>\n",
              "      <td>1</td>\n",
              "      <td>5</td>\n",
              "      <td>3.0</td>\n",
              "      <td>6.0</td>\n",
              "      <td>6.0</td>\n",
              "      <td>14.0</td>\n",
              "      <td>400.0</td>\n",
              "      <td>71.0</td>\n",
              "      <td>-2.2</td>\n",
              "      <td>1025.6</td>\n",
              "      <td>-19.6</td>\n",
              "      <td>0.0</td>\n",
              "      <td>N</td>\n",
              "      <td>3.7</td>\n",
              "      <td>Guanyuan</td>\n",
              "    </tr>\n",
              "    <tr>\n",
              "      <th>6</th>\n",
              "      <td>7</td>\n",
              "      <td>2013</td>\n",
              "      <td>3</td>\n",
              "      <td>1</td>\n",
              "      <td>6</td>\n",
              "      <td>6.0</td>\n",
              "      <td>6.0</td>\n",
              "      <td>6.0</td>\n",
              "      <td>20.0</td>\n",
              "      <td>400.0</td>\n",
              "      <td>66.0</td>\n",
              "      <td>-2.6</td>\n",
              "      <td>1026.5</td>\n",
              "      <td>-19.1</td>\n",
              "      <td>0.0</td>\n",
              "      <td>NNE</td>\n",
              "      <td>2.5</td>\n",
              "      <td>Guanyuan</td>\n",
              "    </tr>\n",
              "    <tr>\n",
              "      <th>7</th>\n",
              "      <td>8</td>\n",
              "      <td>2013</td>\n",
              "      <td>3</td>\n",
              "      <td>1</td>\n",
              "      <td>7</td>\n",
              "      <td>3.0</td>\n",
              "      <td>3.0</td>\n",
              "      <td>7.0</td>\n",
              "      <td>26.0</td>\n",
              "      <td>400.0</td>\n",
              "      <td>61.0</td>\n",
              "      <td>-1.6</td>\n",
              "      <td>1027.4</td>\n",
              "      <td>-19.1</td>\n",
              "      <td>0.0</td>\n",
              "      <td>NNW</td>\n",
              "      <td>3.8</td>\n",
              "      <td>Guanyuan</td>\n",
              "    </tr>\n",
              "    <tr>\n",
              "      <th>8</th>\n",
              "      <td>9</td>\n",
              "      <td>2013</td>\n",
              "      <td>3</td>\n",
              "      <td>1</td>\n",
              "      <td>8</td>\n",
              "      <td>3.0</td>\n",
              "      <td>6.0</td>\n",
              "      <td>9.0</td>\n",
              "      <td>37.0</td>\n",
              "      <td>500.0</td>\n",
              "      <td>50.0</td>\n",
              "      <td>0.1</td>\n",
              "      <td>1028.3</td>\n",
              "      <td>-19.2</td>\n",
              "      <td>0.0</td>\n",
              "      <td>NNW</td>\n",
              "      <td>4.1</td>\n",
              "      <td>Guanyuan</td>\n",
              "    </tr>\n",
              "    <tr>\n",
              "      <th>9</th>\n",
              "      <td>10</td>\n",
              "      <td>2013</td>\n",
              "      <td>3</td>\n",
              "      <td>1</td>\n",
              "      <td>9</td>\n",
              "      <td>7.0</td>\n",
              "      <td>11.0</td>\n",
              "      <td>9.0</td>\n",
              "      <td>30.0</td>\n",
              "      <td>400.0</td>\n",
              "      <td>58.0</td>\n",
              "      <td>1.2</td>\n",
              "      <td>1028.5</td>\n",
              "      <td>-19.3</td>\n",
              "      <td>0.0</td>\n",
              "      <td>N</td>\n",
              "      <td>2.6</td>\n",
              "      <td>Guanyuan</td>\n",
              "    </tr>\n",
              "  </tbody>\n",
              "</table>\n",
              "</div>"
            ],
            "text/plain": [
              "   No  year  month  day  hour  PM2.5  PM10   SO2   NO2     CO    O3  TEMP  \\\n",
              "0   1  2013      3    1     0    4.0   4.0  14.0  20.0  300.0  69.0  -0.7   \n",
              "1   2  2013      3    1     1    4.0   4.0  13.0  17.0  300.0  72.0  -1.1   \n",
              "2   3  2013      3    1     2    3.0   3.0  10.0  19.0  300.0  69.0  -1.1   \n",
              "3   4  2013      3    1     3    3.0   6.0   7.0  24.0  400.0  62.0  -1.4   \n",
              "4   5  2013      3    1     4    3.0   6.0   5.0  14.0  400.0  71.0  -2.0   \n",
              "5   6  2013      3    1     5    3.0   6.0   6.0  14.0  400.0  71.0  -2.2   \n",
              "6   7  2013      3    1     6    6.0   6.0   6.0  20.0  400.0  66.0  -2.6   \n",
              "7   8  2013      3    1     7    3.0   3.0   7.0  26.0  400.0  61.0  -1.6   \n",
              "8   9  2013      3    1     8    3.0   6.0   9.0  37.0  500.0  50.0   0.1   \n",
              "9  10  2013      3    1     9    7.0  11.0   9.0  30.0  400.0  58.0   1.2   \n",
              "\n",
              "     PRES  DEWP  RAIN   wd  WSPM   station  \n",
              "0  1023.0 -18.8   0.0  NNW   4.4  Guanyuan  \n",
              "1  1023.2 -18.2   0.0    N   4.7  Guanyuan  \n",
              "2  1023.5 -18.2   0.0  NNW   5.6  Guanyuan  \n",
              "3  1024.5 -19.4   0.0   NW   3.1  Guanyuan  \n",
              "4  1025.2 -19.5   0.0    N   2.0  Guanyuan  \n",
              "5  1025.6 -19.6   0.0    N   3.7  Guanyuan  \n",
              "6  1026.5 -19.1   0.0  NNE   2.5  Guanyuan  \n",
              "7  1027.4 -19.1   0.0  NNW   3.8  Guanyuan  \n",
              "8  1028.3 -19.2   0.0  NNW   4.1  Guanyuan  \n",
              "9  1028.5 -19.3   0.0    N   2.6  Guanyuan  "
            ]
          },
          "execution_count": 4,
          "metadata": {},
          "output_type": "execute_result"
        }
      ],
      "source": [
        "# load data\n",
        "df = pd.read_csv(\"data/PRSA_Data_Guanyuan_20130301-20170228.csv\")\n",
        "df.head(10)"
      ]
    },
    {
      "cell_type": "code",
      "execution_count": 5,
      "metadata": {
        "colab": {
          "base_uri": "https://localhost:8080/"
        },
        "id": "m_PhppG-nby_",
        "outputId": "5c5dfb3b-bad3-4e15-f2f6-d959ec43fc99"
      },
      "outputs": [
        {
          "data": {
            "text/plain": [
              "(35064, 18)"
            ]
          },
          "execution_count": 5,
          "metadata": {},
          "output_type": "execute_result"
        }
      ],
      "source": [
        "df.shape"
      ]
    },
    {
      "cell_type": "markdown",
      "metadata": {
        "id": "FHSiqaZp8DC1"
      },
      "source": [
        "### Assessing Data"
      ]
    },
    {
      "cell_type": "code",
      "execution_count": 6,
      "metadata": {
        "colab": {
          "base_uri": "https://localhost:8080/"
        },
        "id": "8yuJ5DkZS1CJ",
        "outputId": "cfc1d765-b08e-44d2-e50d-bf382835f1cb"
      },
      "outputs": [
        {
          "name": "stdout",
          "output_type": "stream",
          "text": [
            "<class 'pandas.core.frame.DataFrame'>\n",
            "RangeIndex: 35064 entries, 0 to 35063\n",
            "Data columns (total 18 columns):\n",
            " #   Column   Non-Null Count  Dtype  \n",
            "---  ------   --------------  -----  \n",
            " 0   No       35064 non-null  int64  \n",
            " 1   year     35064 non-null  int64  \n",
            " 2   month    35064 non-null  int64  \n",
            " 3   day      35064 non-null  int64  \n",
            " 4   hour     35064 non-null  int64  \n",
            " 5   PM2.5    34448 non-null  float64\n",
            " 6   PM10     34635 non-null  float64\n",
            " 7   SO2      34590 non-null  float64\n",
            " 8   NO2      34405 non-null  float64\n",
            " 9   CO       33311 non-null  float64\n",
            " 10  O3       33891 non-null  float64\n",
            " 11  TEMP     35044 non-null  float64\n",
            " 12  PRES     35044 non-null  float64\n",
            " 13  DEWP     35044 non-null  float64\n",
            " 14  RAIN     35044 non-null  float64\n",
            " 15  wd       34983 non-null  object \n",
            " 16  WSPM     35050 non-null  float64\n",
            " 17  station  35064 non-null  object \n",
            "dtypes: float64(11), int64(5), object(2)\n",
            "memory usage: 4.8+ MB\n"
          ]
        }
      ],
      "source": [
        "# information about dataset feature\n",
        "df.info()"
      ]
    },
    {
      "cell_type": "code",
      "execution_count": 7,
      "metadata": {
        "colab": {
          "base_uri": "https://localhost:8080/"
        },
        "id": "ax-3tEjc9Cj1",
        "outputId": "dbfa6f25-bdee-42d1-8f92-dddc15312119"
      },
      "outputs": [
        {
          "data": {
            "text/plain": [
              "No            0\n",
              "year          0\n",
              "month         0\n",
              "day           0\n",
              "hour          0\n",
              "PM2.5       616\n",
              "PM10        429\n",
              "SO2         474\n",
              "NO2         659\n",
              "CO         1753\n",
              "O3         1173\n",
              "TEMP         20\n",
              "PRES         20\n",
              "DEWP         20\n",
              "RAIN         20\n",
              "wd           81\n",
              "WSPM         14\n",
              "station       0\n",
              "dtype: int64"
            ]
          },
          "execution_count": 7,
          "metadata": {},
          "output_type": "execute_result"
        }
      ],
      "source": [
        "# checking missing value\n",
        "df.isna().sum()"
      ]
    },
    {
      "cell_type": "code",
      "execution_count": 8,
      "metadata": {
        "colab": {
          "base_uri": "https://localhost:8080/"
        },
        "id": "gG_40Aj2h9Kj",
        "outputId": "36e1da6a-2dc2-4348-87d0-f8fa5c7ab8d6"
      },
      "outputs": [
        {
          "data": {
            "text/plain": [
              "0"
            ]
          },
          "execution_count": 8,
          "metadata": {},
          "output_type": "execute_result"
        }
      ],
      "source": [
        "# checking duplicated data\n",
        "df.duplicated().sum()"
      ]
    },
    {
      "cell_type": "markdown",
      "metadata": {
        "id": "EhN5R4hr8DC1"
      },
      "source": [
        "### Cleaning Data"
      ]
    },
    {
      "cell_type": "code",
      "execution_count": 9,
      "metadata": {
        "colab": {
          "base_uri": "https://localhost:8080/"
        },
        "id": "3L5ikQc5d-HD",
        "outputId": "eaf8bfb8-95c4-4f2e-8eb9-0b2861999ddb"
      },
      "outputs": [
        {
          "data": {
            "text/plain": [
              "array(['NNW', 'N', 'NW', 'NNE', 'ENE', 'E', 'NE', 'W', 'SSW', 'WSW', 'SE',\n",
              "       'WNW', 'SSE', 'ESE', 'S', 'SW', nan], dtype=object)"
            ]
          },
          "execution_count": 9,
          "metadata": {},
          "output_type": "execute_result"
        }
      ],
      "source": [
        "# checking value of feature that i dont know what the feature for\n",
        "df['wd'].unique()"
      ]
    },
    {
      "cell_type": "code",
      "execution_count": 10,
      "metadata": {
        "colab": {
          "base_uri": "https://localhost:8080/"
        },
        "id": "dHNf7C2aeO1P",
        "outputId": "b5d91e44-759c-4aab-a6f5-43283d4ec27f"
      },
      "outputs": [
        {
          "data": {
            "text/plain": [
              "array([ 4.4,  4.7,  5.6,  3.1,  2. ,  3.7,  2.5,  3.8,  4.1,  2.6,  3.6,\n",
              "        5.1,  4.3,  2.8,  3.9,  2.1,  0.8,  1.8,  1.4,  1.1,  1.7,  0.9,\n",
              "        0.7,  1.2,  1.6,  2.7,  1.5,  1.3,  0.4,  2.3,  5.9,  2.9,  0. ,\n",
              "        1. ,  0.5,  3. ,  2.4,  3.4,  3.5,  0.2,  1.9,  0.6,  3.3,  0.1,\n",
              "        4.5,  7.7,  7.4,  7.9,  7.2,  6.7,  4.8,  4.6,  5.2,  4. ,  2.2,\n",
              "        3.2,  6.5,  6.2,  7. ,  5. ,  4.2,  8.3,  5.4,  5.8,  7.3,  6.3,\n",
              "        5.5,  6.1,  7.6,  6. ,  6.4,  6.6,  5.3,  4.9,  5.7,  7.1,  6.8,\n",
              "        6.9,  7.5,  9.1,  8. ,  8.1,  8.4,  0.3,  nan, 11.2,  8.2,  8.5,\n",
              "        9.2,  8.8,  8.9,  8.6])"
            ]
          },
          "execution_count": 10,
          "metadata": {},
          "output_type": "execute_result"
        }
      ],
      "source": [
        "df['WSPM'].unique()"
      ]
    },
    {
      "cell_type": "code",
      "execution_count": 11,
      "metadata": {
        "id": "UMDWYNqHhloo"
      },
      "outputs": [],
      "source": [
        "# these features can be ignored so i dropping these\n",
        "df_cleaned = df.drop(['wd', 'WSPM'], axis=1)"
      ]
    },
    {
      "cell_type": "code",
      "execution_count": 12,
      "metadata": {
        "id": "jVnYpprE9Evz"
      },
      "outputs": [],
      "source": [
        "# imputate missing value\n",
        "columns_to_fill = ['CO', 'SO2', 'NO2', 'O3', 'PM2.5', 'PM10']\n",
        "\n",
        "mean_values = df_cleaned[columns_to_fill].mean()\n",
        "\n",
        "df_cleaned[columns_to_fill] = df_cleaned[columns_to_fill].fillna(mean_values)"
      ]
    },
    {
      "cell_type": "code",
      "execution_count": 13,
      "metadata": {
        "colab": {
          "base_uri": "https://localhost:8080/"
        },
        "id": "lURX3rUHwmhX",
        "outputId": "5474f7ae-2d00-4f6d-8b3e-6e604b1f4ec3"
      },
      "outputs": [
        {
          "data": {
            "text/plain": [
              "No          0\n",
              "year        0\n",
              "month       0\n",
              "day         0\n",
              "hour        0\n",
              "PM2.5       0\n",
              "PM10        0\n",
              "SO2         0\n",
              "NO2         0\n",
              "CO          0\n",
              "O3          0\n",
              "TEMP       20\n",
              "PRES       20\n",
              "DEWP       20\n",
              "RAIN       20\n",
              "station     0\n",
              "dtype: int64"
            ]
          },
          "execution_count": 13,
          "metadata": {},
          "output_type": "execute_result"
        }
      ],
      "source": [
        "# checking again\n",
        "df_cleaned.isna().sum()"
      ]
    },
    {
      "cell_type": "code",
      "execution_count": 14,
      "metadata": {
        "id": "Uv8D98heyDBu"
      },
      "outputs": [],
      "source": [
        "# dropping missing value from feature that i think least impactful\n",
        "value_to_drop = ['TEMP', 'PRES', 'DEWP', 'RAIN']\n",
        "\n",
        "df_cleaned = df_cleaned.dropna(subset = value_to_drop)"
      ]
    },
    {
      "cell_type": "code",
      "execution_count": 15,
      "metadata": {
        "id": "SdmhP-JoECx0"
      },
      "outputs": [],
      "source": [
        "# convert year to category data type for easier use\n",
        "df_cleaned['year'] = df_cleaned.year.astype('category')"
      ]
    },
    {
      "cell_type": "code",
      "execution_count": 16,
      "metadata": {
        "colab": {
          "base_uri": "https://localhost:8080/"
        },
        "id": "DPTUV0yXHHP8",
        "outputId": "3bc03c8d-9fa4-4758-c744-f3adc544548f"
      },
      "outputs": [
        {
          "name": "stdout",
          "output_type": "stream",
          "text": [
            "<class 'pandas.core.frame.DataFrame'>\n",
            "Int64Index: 35044 entries, 0 to 35063\n",
            "Data columns (total 16 columns):\n",
            " #   Column   Non-Null Count  Dtype   \n",
            "---  ------   --------------  -----   \n",
            " 0   No       35044 non-null  int64   \n",
            " 1   year     35044 non-null  category\n",
            " 2   month    35044 non-null  int64   \n",
            " 3   day      35044 non-null  int64   \n",
            " 4   hour     35044 non-null  int64   \n",
            " 5   PM2.5    35044 non-null  float64 \n",
            " 6   PM10     35044 non-null  float64 \n",
            " 7   SO2      35044 non-null  float64 \n",
            " 8   NO2      35044 non-null  float64 \n",
            " 9   CO       35044 non-null  float64 \n",
            " 10  O3       35044 non-null  float64 \n",
            " 11  TEMP     35044 non-null  float64 \n",
            " 12  PRES     35044 non-null  float64 \n",
            " 13  DEWP     35044 non-null  float64 \n",
            " 14  RAIN     35044 non-null  float64 \n",
            " 15  station  35044 non-null  object  \n",
            "dtypes: category(1), float64(10), int64(4), object(1)\n",
            "memory usage: 4.3+ MB\n"
          ]
        }
      ],
      "source": [
        "df_cleaned.info()"
      ]
    },
    {
      "cell_type": "code",
      "execution_count": 17,
      "metadata": {
        "colab": {
          "base_uri": "https://localhost:8080/",
          "height": 206
        },
        "id": "f3rJyp1hHMjo",
        "outputId": "23f87f25-bb95-4b77-8fc3-b06dbdd96e8e"
      },
      "outputs": [
        {
          "data": {
            "text/html": [
              "<div>\n",
              "<style scoped>\n",
              "    .dataframe tbody tr th:only-of-type {\n",
              "        vertical-align: middle;\n",
              "    }\n",
              "\n",
              "    .dataframe tbody tr th {\n",
              "        vertical-align: top;\n",
              "    }\n",
              "\n",
              "    .dataframe thead th {\n",
              "        text-align: right;\n",
              "    }\n",
              "</style>\n",
              "<table border=\"1\" class=\"dataframe\">\n",
              "  <thead>\n",
              "    <tr style=\"text-align: right;\">\n",
              "      <th></th>\n",
              "      <th>No</th>\n",
              "      <th>year</th>\n",
              "      <th>month</th>\n",
              "      <th>day</th>\n",
              "      <th>hour</th>\n",
              "      <th>PM2.5</th>\n",
              "      <th>PM10</th>\n",
              "      <th>SO2</th>\n",
              "      <th>NO2</th>\n",
              "      <th>CO</th>\n",
              "      <th>O3</th>\n",
              "      <th>TEMP</th>\n",
              "      <th>PRES</th>\n",
              "      <th>DEWP</th>\n",
              "      <th>RAIN</th>\n",
              "      <th>station</th>\n",
              "    </tr>\n",
              "  </thead>\n",
              "  <tbody>\n",
              "    <tr>\n",
              "      <th>0</th>\n",
              "      <td>1</td>\n",
              "      <td>2013</td>\n",
              "      <td>3</td>\n",
              "      <td>1</td>\n",
              "      <td>0</td>\n",
              "      <td>4.0</td>\n",
              "      <td>4.0</td>\n",
              "      <td>14.0</td>\n",
              "      <td>20.0</td>\n",
              "      <td>300.0</td>\n",
              "      <td>69.0</td>\n",
              "      <td>-0.7</td>\n",
              "      <td>1023.0</td>\n",
              "      <td>-18.8</td>\n",
              "      <td>0.0</td>\n",
              "      <td>Guanyuan</td>\n",
              "    </tr>\n",
              "    <tr>\n",
              "      <th>1</th>\n",
              "      <td>2</td>\n",
              "      <td>2013</td>\n",
              "      <td>3</td>\n",
              "      <td>1</td>\n",
              "      <td>1</td>\n",
              "      <td>4.0</td>\n",
              "      <td>4.0</td>\n",
              "      <td>13.0</td>\n",
              "      <td>17.0</td>\n",
              "      <td>300.0</td>\n",
              "      <td>72.0</td>\n",
              "      <td>-1.1</td>\n",
              "      <td>1023.2</td>\n",
              "      <td>-18.2</td>\n",
              "      <td>0.0</td>\n",
              "      <td>Guanyuan</td>\n",
              "    </tr>\n",
              "    <tr>\n",
              "      <th>2</th>\n",
              "      <td>3</td>\n",
              "      <td>2013</td>\n",
              "      <td>3</td>\n",
              "      <td>1</td>\n",
              "      <td>2</td>\n",
              "      <td>3.0</td>\n",
              "      <td>3.0</td>\n",
              "      <td>10.0</td>\n",
              "      <td>19.0</td>\n",
              "      <td>300.0</td>\n",
              "      <td>69.0</td>\n",
              "      <td>-1.1</td>\n",
              "      <td>1023.5</td>\n",
              "      <td>-18.2</td>\n",
              "      <td>0.0</td>\n",
              "      <td>Guanyuan</td>\n",
              "    </tr>\n",
              "    <tr>\n",
              "      <th>3</th>\n",
              "      <td>4</td>\n",
              "      <td>2013</td>\n",
              "      <td>3</td>\n",
              "      <td>1</td>\n",
              "      <td>3</td>\n",
              "      <td>3.0</td>\n",
              "      <td>6.0</td>\n",
              "      <td>7.0</td>\n",
              "      <td>24.0</td>\n",
              "      <td>400.0</td>\n",
              "      <td>62.0</td>\n",
              "      <td>-1.4</td>\n",
              "      <td>1024.5</td>\n",
              "      <td>-19.4</td>\n",
              "      <td>0.0</td>\n",
              "      <td>Guanyuan</td>\n",
              "    </tr>\n",
              "    <tr>\n",
              "      <th>4</th>\n",
              "      <td>5</td>\n",
              "      <td>2013</td>\n",
              "      <td>3</td>\n",
              "      <td>1</td>\n",
              "      <td>4</td>\n",
              "      <td>3.0</td>\n",
              "      <td>6.0</td>\n",
              "      <td>5.0</td>\n",
              "      <td>14.0</td>\n",
              "      <td>400.0</td>\n",
              "      <td>71.0</td>\n",
              "      <td>-2.0</td>\n",
              "      <td>1025.2</td>\n",
              "      <td>-19.5</td>\n",
              "      <td>0.0</td>\n",
              "      <td>Guanyuan</td>\n",
              "    </tr>\n",
              "  </tbody>\n",
              "</table>\n",
              "</div>"
            ],
            "text/plain": [
              "   No  year  month  day  hour  PM2.5  PM10   SO2   NO2     CO    O3  TEMP  \\\n",
              "0   1  2013      3    1     0    4.0   4.0  14.0  20.0  300.0  69.0  -0.7   \n",
              "1   2  2013      3    1     1    4.0   4.0  13.0  17.0  300.0  72.0  -1.1   \n",
              "2   3  2013      3    1     2    3.0   3.0  10.0  19.0  300.0  69.0  -1.1   \n",
              "3   4  2013      3    1     3    3.0   6.0   7.0  24.0  400.0  62.0  -1.4   \n",
              "4   5  2013      3    1     4    3.0   6.0   5.0  14.0  400.0  71.0  -2.0   \n",
              "\n",
              "     PRES  DEWP  RAIN   station  \n",
              "0  1023.0 -18.8   0.0  Guanyuan  \n",
              "1  1023.2 -18.2   0.0  Guanyuan  \n",
              "2  1023.5 -18.2   0.0  Guanyuan  \n",
              "3  1024.5 -19.4   0.0  Guanyuan  \n",
              "4  1025.2 -19.5   0.0  Guanyuan  "
            ]
          },
          "execution_count": 17,
          "metadata": {},
          "output_type": "execute_result"
        }
      ],
      "source": [
        "df_cleaned.head()"
      ]
    },
    {
      "cell_type": "markdown",
      "metadata": {
        "id": "gp-Y6wU38DC1"
      },
      "source": [
        "## Exploratory Data Analysis (EDA)"
      ]
    },
    {
      "cell_type": "markdown",
      "metadata": {
        "id": "MW7WF2kr8DC1"
      },
      "source": [
        "### Explore ..."
      ]
    },
    {
      "cell_type": "code",
      "execution_count": 18,
      "metadata": {
        "colab": {
          "base_uri": "https://localhost:8080/",
          "height": 853
        },
        "id": "e9CQCZjk8DC2",
        "outputId": "54b7577c-92dd-46eb-88f2-7ccb1308ee94"
      },
      "outputs": [
        {
          "data": {
            "image/png": "[encoded data removed]",
            "text/plain": [
              "<Figure size 1200x1000 with 2 Axes>"
            ]
          },
          "metadata": {},
          "output_type": "display_data"
        }
      ],
      "source": [
        "# making heatmap to find highest correlation with each feature\n",
        "corr_matrix = df_cleaned.iloc[:,5:14].dropna().corr()\n",
        "\n",
        "plt.figure(figsize=(12,10))\n",
        "sns.heatmap(corr_matrix, annot=True, cmap='coolwarm', linewidth=0.5)\n",
        "\n",
        "plt.title(\"Correlation Heatmap\")\n",
        "plt.show()"
      ]
    },
    {
      "cell_type": "markdown",
      "metadata": {
        "id": "3yunSJCCNmMM"
      },
      "source": [
        "From heatmap, i can conclude that feature that have high correlation is PM2.5, PM10, CO, and NO2"
      ]
    },
    {
      "cell_type": "code",
      "execution_count": 19,
      "metadata": {
        "colab": {
          "base_uri": "https://localhost:8080/",
          "height": 320
        },
        "id": "qHFdpXm_j-SU",
        "outputId": "a10bb4b9-4324-4043-8243-595cc820b70f"
      },
      "outputs": [
        {
          "data": {
            "text/html": [
              "<div>\n",
              "<style scoped>\n",
              "    .dataframe tbody tr th:only-of-type {\n",
              "        vertical-align: middle;\n",
              "    }\n",
              "\n",
              "    .dataframe tbody tr th {\n",
              "        vertical-align: top;\n",
              "    }\n",
              "\n",
              "    .dataframe thead th {\n",
              "        text-align: right;\n",
              "    }\n",
              "</style>\n",
              "<table border=\"1\" class=\"dataframe\">\n",
              "  <thead>\n",
              "    <tr style=\"text-align: right;\">\n",
              "      <th></th>\n",
              "      <th>No</th>\n",
              "      <th>month</th>\n",
              "      <th>day</th>\n",
              "      <th>hour</th>\n",
              "      <th>PM2.5</th>\n",
              "      <th>PM10</th>\n",
              "      <th>SO2</th>\n",
              "      <th>NO2</th>\n",
              "      <th>CO</th>\n",
              "      <th>O3</th>\n",
              "      <th>TEMP</th>\n",
              "      <th>PRES</th>\n",
              "      <th>DEWP</th>\n",
              "      <th>RAIN</th>\n",
              "    </tr>\n",
              "  </thead>\n",
              "  <tbody>\n",
              "    <tr>\n",
              "      <th>count</th>\n",
              "      <td>35044.000000</td>\n",
              "      <td>35044.000000</td>\n",
              "      <td>35044.000000</td>\n",
              "      <td>35044.000000</td>\n",
              "      <td>35044.000000</td>\n",
              "      <td>35044.000000</td>\n",
              "      <td>35044.000000</td>\n",
              "      <td>35044.000000</td>\n",
              "      <td>35044.000000</td>\n",
              "      <td>35044.000000</td>\n",
              "      <td>35044.000000</td>\n",
              "      <td>35044.000000</td>\n",
              "      <td>35044.000000</td>\n",
              "      <td>35044.000000</td>\n",
              "    </tr>\n",
              "    <tr>\n",
              "      <th>mean</th>\n",
              "      <td>17524.582582</td>\n",
              "      <td>6.524455</td>\n",
              "      <td>15.726487</td>\n",
              "      <td>11.499486</td>\n",
              "      <td>82.931822</td>\n",
              "      <td>109.019378</td>\n",
              "      <td>17.592277</td>\n",
              "      <td>57.903755</td>\n",
              "      <td>1271.272288</td>\n",
              "      <td>55.783171</td>\n",
              "      <td>13.584607</td>\n",
              "      <td>1011.846920</td>\n",
              "      <td>3.123062</td>\n",
              "      <td>0.067421</td>\n",
              "    </tr>\n",
              "    <tr>\n",
              "      <th>std</th>\n",
              "      <td>10119.010388</td>\n",
              "      <td>3.447959</td>\n",
              "      <td>8.800813</td>\n",
              "      <td>6.922185</td>\n",
              "      <td>80.234204</td>\n",
              "      <td>91.027708</td>\n",
              "      <td>23.444528</td>\n",
              "      <td>34.823584</td>\n",
              "      <td>1135.452856</td>\n",
              "      <td>56.461038</td>\n",
              "      <td>11.399097</td>\n",
              "      <td>10.404047</td>\n",
              "      <td>13.688896</td>\n",
              "      <td>0.910056</td>\n",
              "    </tr>\n",
              "    <tr>\n",
              "      <th>min</th>\n",
              "      <td>1.000000</td>\n",
              "      <td>1.000000</td>\n",
              "      <td>1.000000</td>\n",
              "      <td>0.000000</td>\n",
              "      <td>2.000000</td>\n",
              "      <td>2.000000</td>\n",
              "      <td>1.000000</td>\n",
              "      <td>2.000000</td>\n",
              "      <td>100.000000</td>\n",
              "      <td>0.214200</td>\n",
              "      <td>-16.800000</td>\n",
              "      <td>985.900000</td>\n",
              "      <td>-35.300000</td>\n",
              "      <td>0.000000</td>\n",
              "    </tr>\n",
              "    <tr>\n",
              "      <th>25%</th>\n",
              "      <td>8761.750000</td>\n",
              "      <td>4.000000</td>\n",
              "      <td>8.000000</td>\n",
              "      <td>5.000000</td>\n",
              "      <td>24.000000</td>\n",
              "      <td>41.000000</td>\n",
              "      <td>3.000000</td>\n",
              "      <td>31.000000</td>\n",
              "      <td>600.000000</td>\n",
              "      <td>8.000000</td>\n",
              "      <td>3.100000</td>\n",
              "      <td>1003.300000</td>\n",
              "      <td>-8.100000</td>\n",
              "      <td>0.000000</td>\n",
              "    </tr>\n",
              "    <tr>\n",
              "      <th>50%</th>\n",
              "      <td>17524.500000</td>\n",
              "      <td>7.000000</td>\n",
              "      <td>16.000000</td>\n",
              "      <td>11.000000</td>\n",
              "      <td>61.000000</td>\n",
              "      <td>90.000000</td>\n",
              "      <td>9.000000</td>\n",
              "      <td>52.000000</td>\n",
              "      <td>1000.000000</td>\n",
              "      <td>44.000000</td>\n",
              "      <td>14.500000</td>\n",
              "      <td>1011.400000</td>\n",
              "      <td>3.800000</td>\n",
              "      <td>0.000000</td>\n",
              "    </tr>\n",
              "    <tr>\n",
              "      <th>75%</th>\n",
              "      <td>26285.250000</td>\n",
              "      <td>10.000000</td>\n",
              "      <td>23.000000</td>\n",
              "      <td>17.000000</td>\n",
              "      <td>113.000000</td>\n",
              "      <td>148.000000</td>\n",
              "      <td>21.000000</td>\n",
              "      <td>78.000000</td>\n",
              "      <td>1500.000000</td>\n",
              "      <td>79.000000</td>\n",
              "      <td>23.300000</td>\n",
              "      <td>1020.100000</td>\n",
              "      <td>15.600000</td>\n",
              "      <td>0.000000</td>\n",
              "    </tr>\n",
              "    <tr>\n",
              "      <th>max</th>\n",
              "      <td>35064.000000</td>\n",
              "      <td>12.000000</td>\n",
              "      <td>31.000000</td>\n",
              "      <td>23.000000</td>\n",
              "      <td>680.000000</td>\n",
              "      <td>999.000000</td>\n",
              "      <td>293.000000</td>\n",
              "      <td>270.000000</td>\n",
              "      <td>10000.000000</td>\n",
              "      <td>415.000000</td>\n",
              "      <td>40.500000</td>\n",
              "      <td>1042.000000</td>\n",
              "      <td>28.500000</td>\n",
              "      <td>72.500000</td>\n",
              "    </tr>\n",
              "  </tbody>\n",
              "</table>\n",
              "</div>"
            ],
            "text/plain": [
              "                 No         month           day          hour         PM2.5  \\\n",
              "count  35044.000000  35044.000000  35044.000000  35044.000000  35044.000000   \n",
              "mean   17524.582582      6.524455     15.726487     11.499486     82.931822   \n",
              "std    10119.010388      3.447959      8.800813      6.922185     80.234204   \n",
              "min        1.000000      1.000000      1.000000      0.000000      2.000000   \n",
              "25%     8761.750000      4.000000      8.000000      5.000000     24.000000   \n",
              "50%    17524.500000      7.000000     16.000000     11.000000     61.000000   \n",
              "75%    26285.250000     10.000000     23.000000     17.000000    113.000000   \n",
              "max    35064.000000     12.000000     31.000000     23.000000    680.000000   \n",
              "\n",
              "               PM10           SO2           NO2            CO            O3  \\\n",
              "count  35044.000000  35044.000000  35044.000000  35044.000000  35044.000000   \n",
              "mean     109.019378     17.592277     57.903755   1271.272288     55.783171   \n",
              "std       91.027708     23.444528     34.823584   1135.452856     56.461038   \n",
              "min        2.000000      1.000000      2.000000    100.000000      0.214200   \n",
              "25%       41.000000      3.000000     31.000000    600.000000      8.000000   \n",
              "50%       90.000000      9.000000     52.000000   1000.000000     44.000000   \n",
              "75%      148.000000     21.000000     78.000000   1500.000000     79.000000   \n",
              "max      999.000000    293.000000    270.000000  10000.000000    415.000000   \n",
              "\n",
              "               TEMP          PRES          DEWP          RAIN  \n",
              "count  35044.000000  35044.000000  35044.000000  35044.000000  \n",
              "mean      13.584607   1011.846920      3.123062      0.067421  \n",
              "std       11.399097     10.404047     13.688896      0.910056  \n",
              "min      -16.800000    985.900000    -35.300000      0.000000  \n",
              "25%        3.100000   1003.300000     -8.100000      0.000000  \n",
              "50%       14.500000   1011.400000      3.800000      0.000000  \n",
              "75%       23.300000   1020.100000     15.600000      0.000000  \n",
              "max       40.500000   1042.000000     28.500000     72.500000  "
            ]
          },
          "execution_count": 19,
          "metadata": {},
          "output_type": "execute_result"
        }
      ],
      "source": [
        "# check distribution\n",
        "df_cleaned.describe()"
      ]
    },
    {
      "cell_type": "code",
      "execution_count": 20,
      "metadata": {
        "colab": {
          "base_uri": "https://localhost:8080/",
          "height": 1000
        },
        "id": "vzggLpel8pbO",
        "outputId": "171f3c3f-82b4-46e5-aa55-0c30615445d5"
      },
      "outputs": [
        {
          "data": {
            "image/png": "[encoded data removed]",
            "text/plain": [
              "<Figure size 1400x900 with 5 Axes>"
            ]
          },
          "metadata": {},
          "output_type": "display_data"
        },
        {
          "name": "stdout",
          "output_type": "stream",
          "text": [
            "\n",
            "Outliers count for each specified feature:\n",
            "PM2.5: 1650\n",
            "PM10: 1231\n",
            "SO2: 3216\n",
            "NO2: 664\n",
            "CO: 2846\n"
          ]
        }
      ],
      "source": [
        "# find outlier, count it, and then plot it\n",
        "def plot_and_count_outliers(data, features):\n",
        "    num_features = len(features)\n",
        "    num_rows = (num_features + 1) // 2 # Adjusted to have 2 columns per row\n",
        "\n",
        "    fig, ax = plt.subplots(num_rows, 2, figsize=(14, 3 * num_rows))\n",
        "    ax = ax.flatten()\n",
        "    outliers_count = {}\n",
        "\n",
        "    for i, feature in enumerate(features):\n",
        "        sns.boxplot(data[feature], ax=ax[i])\n",
        "        ax[i].set_title(\"{} distribution\".format(feature))\n",
        "\n",
        "        # Calculate outliers\n",
        "        q1 = data[feature].quantile(0.25)\n",
        "        q3 = data[feature].quantile(0.75)\n",
        "        iqr = q3 - q1\n",
        "        lower_bound = q1 - 1.5 * iqr\n",
        "        upper_bound = q3 + 1.5 * iqr\n",
        "\n",
        "        # Count outliers\n",
        "        outliers_lower = data[data[feature] < lower_bound]\n",
        "        outliers_upper = data[data[feature] > upper_bound]\n",
        "        outliers_count[feature] = outliers_lower.shape[0] + outliers_upper.shape[0]\n",
        "\n",
        "    # Remove any remaining unused subplots\n",
        "    for i in range(num_features, len(ax)):\n",
        "        fig.delaxes(ax[i])\n",
        "\n",
        "    plt.tight_layout()\n",
        "    plt.show()\n",
        "\n",
        "    return outliers_count\n",
        "\n",
        "# Specify the features you want to analyze\n",
        "features_to_analyze = ['PM2.5', 'PM10', 'SO2', 'NO2', 'CO']\n",
        "\n",
        "# Call the function with the specified features\n",
        "outlier_counts = plot_and_count_outliers(df_cleaned, features_to_analyze)\n",
        "\n",
        "# Print outlier counts for the specified features\n",
        "print(\"\\nOutliers count for each specified feature:\")\n",
        "for feature, count in outlier_counts.items():\n",
        "    print(f\"{feature}: {count}\")"
      ]
    },
    {
      "cell_type": "code",
      "execution_count": 21,
      "metadata": {
        "id": "w0jdY9RT89Xo"
      },
      "outputs": [],
      "source": [
        "# Function to replace outliers with the mean\n",
        "def replace_outliers_with_mean(df, column):\n",
        "    Q1 = df[column].quantile(0.25)\n",
        "    Q3 = df[column].quantile(0.75)\n",
        "    IQR = Q3 - Q1\n",
        "\n",
        "    # Define bounds for outliers\n",
        "    lower_bound = Q1 - 1.5 * IQR\n",
        "    upper_bound = Q3 + 1.5 * IQR\n",
        "\n",
        "    # Replace outliers with the mean\n",
        "    mean = df[column].mean()\n",
        "    df[column] = df[column].apply(lambda x: mean if x < lower_bound or x > upper_bound else x)\n",
        "\n",
        "    return df\n",
        "\n",
        "df_cleaned = replace_outliers_with_mean(df_cleaned, 'PM10')\n",
        "df_cleaned = replace_outliers_with_mean(df_cleaned, 'SO2')\n",
        "df_cleaned = replace_outliers_with_mean(df_cleaned, 'NO2')\n",
        "df_cleaned = replace_outliers_with_mean(df_cleaned, 'CO')"
      ]
    },
    {
      "cell_type": "markdown",
      "metadata": {
        "id": "zsyZjqak8DC2"
      },
      "source": [
        "## Visualization & Explanatory Analysis"
      ]
    },
    {
      "cell_type": "markdown",
      "metadata": {
        "id": "HZxOiQ6n8DC2"
      },
      "source": [
        "### Pertanyaan 1: Bagaimana kualitas Udara di daerah Guanyuan dari tahun 2013 sampai dengan tahun 2017 ? (berdasarkan PM2.5)"
      ]
    },
    {
      "cell_type": "code",
      "execution_count": 22,
      "metadata": {
        "colab": {
          "base_uri": "https://localhost:8080/",
          "height": 206
        },
        "id": "ewCm1urVDfez",
        "outputId": "3931aaa5-76e6-40b5-af0d-5857d9f933d0"
      },
      "outputs": [
        {
          "data": {
            "text/html": [
              "<div>\n",
              "<style scoped>\n",
              "    .dataframe tbody tr th:only-of-type {\n",
              "        vertical-align: middle;\n",
              "    }\n",
              "\n",
              "    .dataframe tbody tr th {\n",
              "        vertical-align: top;\n",
              "    }\n",
              "\n",
              "    .dataframe thead th {\n",
              "        text-align: right;\n",
              "    }\n",
              "</style>\n",
              "<table border=\"1\" class=\"dataframe\">\n",
              "  <thead>\n",
              "    <tr style=\"text-align: right;\">\n",
              "      <th></th>\n",
              "      <th>year</th>\n",
              "      <th>PM2.5</th>\n",
              "    </tr>\n",
              "  </thead>\n",
              "  <tbody>\n",
              "    <tr>\n",
              "      <th>0</th>\n",
              "      <td>2013</td>\n",
              "      <td>82.140551</td>\n",
              "    </tr>\n",
              "    <tr>\n",
              "      <th>1</th>\n",
              "      <td>2014</td>\n",
              "      <td>88.255731</td>\n",
              "    </tr>\n",
              "    <tr>\n",
              "      <th>2</th>\n",
              "      <td>2015</td>\n",
              "      <td>82.433113</td>\n",
              "    </tr>\n",
              "    <tr>\n",
              "      <th>3</th>\n",
              "      <td>2016</td>\n",
              "      <td>77.193992</td>\n",
              "    </tr>\n",
              "    <tr>\n",
              "      <th>4</th>\n",
              "      <td>2017</td>\n",
              "      <td>92.826668</td>\n",
              "    </tr>\n",
              "  </tbody>\n",
              "</table>\n",
              "</div>"
            ],
            "text/plain": [
              "   year      PM2.5\n",
              "0  2013  82.140551\n",
              "1  2014  88.255731\n",
              "2  2015  82.433113\n",
              "3  2016  77.193992\n",
              "4  2017  92.826668"
            ]
          },
          "execution_count": 22,
          "metadata": {},
          "output_type": "execute_result"
        }
      ],
      "source": [
        "# aggregate PM2.5 based on year\n",
        "df_agg = df_cleaned.groupby('year').agg({\n",
        "    'PM2.5' : 'mean'\n",
        "}).reset_index()\n",
        "df_agg"
      ]
    },
    {
      "cell_type": "code",
      "execution_count": 23,
      "metadata": {
        "colab": {
          "base_uri": "https://localhost:8080/",
          "height": 493
        },
        "id": "NitHV86V33LI",
        "outputId": "9eaa9da7-ee92-400f-daa1-8b37b30b5146"
      },
      "outputs": [
        {
          "data": {
            "image/png": "[encoded data removed]",
            "text/plain": [
              "<Figure size 640x480 with 1 Axes>"
            ]
          },
          "metadata": {},
          "output_type": "display_data"
        }
      ],
      "source": [
        "# plotting aggregate that has been made\n",
        "df_agg.plot(x='year', y='PM2.5', kind='line', color='skyblue', marker='o')\n",
        "plt.title('PM2.5 distribution')\n",
        "plt.xlabel('year')\n",
        "plt.ylabel('PM2.5')\n",
        "plt.xticks(range(len(df_agg['year'].unique())), df_agg['year'].unique(), rotation=45)\n",
        "plt.grid(True)\n",
        "plt.show()"
      ]
    },
    {
      "cell_type": "markdown",
      "metadata": {
        "id": "DgHI7CiU8DC2"
      },
      "source": [
        "### Pertanyaan 2: Komponen apa yang paling banyak terdapat pada Udara di daerah Guanyuan ?"
      ]
    },
    {
      "cell_type": "code",
      "execution_count": 24,
      "metadata": {
        "colab": {
          "base_uri": "https://localhost:8080/",
          "height": 675
        },
        "id": "Go0lCsvO8DC2",
        "outputId": "dfa7cb94-d13a-40c3-c1f0-235b36073432"
      },
      "outputs": [
        {
          "data": {
            "image/png": "[encoded data removed]",
            "text/plain": [
              "<Figure size 1000x800 with 1 Axes>"
            ]
          },
          "metadata": {},
          "output_type": "display_data"
        }
      ],
      "source": [
        "# feature that'll be count\n",
        "features = ['PM2.5', 'PM10', 'SO2', 'NO2', 'CO', 'O3']\n",
        "\n",
        "# Calculate the total for each feature\n",
        "total = df[features].sum().sum()\n",
        "\n",
        "# Calculate the proportion of each feature relative to the total\n",
        "proportions = df[features].sum() / total\n",
        "\n",
        "# Create a pie chart for all features\n",
        "plt.figure(figsize=(10, 8))\n",
        "plt.pie(proportions, labels=features, autopct='%1.1f%%', startangle=90)\n",
        "plt.axis('equal') # Equal aspect ratio ensures that pie is drawn as a circle.\n",
        "plt.title('Feature Distribution')\n",
        "plt.show()\n"
      ]
    },
    {
      "cell_type": "code",
      "execution_count": 26,
      "metadata": {},
      "outputs": [],
      "source": [
        "# export data cleaned to csv file \n",
        "df_cleaned.to_csv('dashboard/main_data.csv', index=False)"
      ]
    },
    {
      "cell_type": "markdown",
      "metadata": {
        "id": "_WeHlCeX8DC2"
      },
      "source": [
        "## Conclusion"
      ]
    },
    {
      "cell_type": "markdown",
      "metadata": {
        "id": "ZTcyR48Y8DC2"
      },
      "source": [
        "#### **Bagaimana kualitas Udara di daerah Guanyuan dari tahun 2013 sampai dengan tahun 2017 ? (berdasarkan PM2.5)**\n",
        "Berdasarkan hasil visualisasi yang sudah saya buat untuk component PM2.5, didapatkan bahwa jumlah komponen PM2.5 paling banyak ada pada tahun 2017. Berdasarkan catatan dan beberapa literatur yang sudah saya baca, PM2.5 mempengaruhi kualitas udara pada suatu daerah. PM2.5 adalah partikel yang sangat halus dengan diameter lebih kecil dari 2.5 mikron (mikrometer). Jadi kualitas Udara paling baik berada pada tahun 2017\n",
        "\n",
        "#### **Komponen apa yang paling banyak terdapat pada Udara di daerah Guanyuan ?**\n",
        "Berdasarkan hasil visualisasi yang sudah buat dengan pie chart didapatkan jawabannya, bahwa komponen udara yang paling banyak di daerah Guanyuan adalah CO, sedangkan perbandingan komponen CO dengan komponen yang lainnya sangatlah jauh. Jumlah paling sedikit berada pada komponen SO2"
      ]
    }
  ],
  "metadata": {
    "colab": {
      "provenance": []
    },
    "kernelspec": {
      "display_name": "Python 3",
      "language": "python",
      "name": "python3"
    },
    "language_info": {
      "codemirror_mode": {
        "name": "ipython",
        "version": 3
      },
      "file_extension": ".py",
      "mimetype": "text/x-python",
      "name": "python",
      "nbconvert_exporter": "python",
      "pygments_lexer": "ipython3",
      "version": "3.11.4"
    },
    "orig_nbformat": 4,
    "vscode": {
      "interpreter": {
        "hash": "972b3bf27e332e87b5379f2791f6ef9dfc79c71018c370b0d7423235e20fe4d7"
      }
    }
  },
  "nbformat": 4,
  "nbformat_minor": 0
}
